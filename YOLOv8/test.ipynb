{
 "cells": [
  {
   "cell_type": "code",
   "execution_count": 1,
   "metadata": {},
   "outputs": [
    {
     "name": "stderr",
     "output_type": "stream",
     "text": [
      "WARNING  Ultralytics settings reset to defaults. This is normal and may be due to a recent ultralytics package update, but may have overwritten previous settings. \n",
      "View and update settings with 'yolo settings' or at 'C:\\Users\\hasan\\AppData\\Roaming\\Ultralytics\\settings.yaml'\n"
     ]
    }
   ],
   "source": [
    "from ultralytics import YOLO\n",
    "from PIL import Image\n",
    "import cv2\n"
   ]
  },
  {
   "cell_type": "code",
   "execution_count": 2,
   "metadata": {},
   "outputs": [
    {
     "name": "stdout",
     "output_type": "stream",
     "text": [
      "0.15.2+cpu\n"
     ]
    }
   ],
   "source": [
    "import torchvision\n",
    "print(torchvision.__version__)"
   ]
  },
  {
   "cell_type": "code",
   "execution_count": 24,
   "metadata": {},
   "outputs": [],
   "source": [
    "# Load a model\n",
    "model = YOLO(\"leafSegmentation.pt\")"
   ]
  },
  {
   "cell_type": "code",
   "execution_count": 38,
   "metadata": {},
   "outputs": [
    {
     "name": "stderr",
     "output_type": "stream",
     "text": [
      "\n",
      "0: 640x640 82 leafs, 1048.1ms\n",
      "Speed: 8.0ms preprocess, 1048.1ms inference, 155.0ms postprocess per image at shape (1, 3, 640, 640)\n"
     ]
    }
   ],
   "source": [
    "img = cv2.imread(\"../watershed-method/test7.JPG\")\n",
    "img = cv2.imread(\"../IMG_0167.JPG\")\n",
    "\n",
    "# img resize\n",
    "img = cv2.resize(img, (1024, 1024))\n",
    "cv2.imshow(\"img\", img)\n",
    "res = model(img, conf = 0.6)\n",
    "res_plotted = res[0].plot(conf = True, labels = True, masks = True, boxes = True, save = False)\n",
    "cv2.imshow(\"result\", res_plotted)\n",
    "cv2.waitKey(0)\n",
    "cv2.destroyAllWindows()\n"
   ]
  },
  {
   "cell_type": "code",
   "execution_count": 37,
   "metadata": {},
   "outputs": [
    {
     "name": "stderr",
     "output_type": "stream",
     "text": [
      "\n",
      "0: 640x640 13 leafs, 1025.9ms\n",
      "Speed: 7.0ms preprocess, 1025.9ms inference, 27.0ms postprocess per image at shape (1, 3, 640, 640)\n"
     ]
    }
   ],
   "source": [
    "img = cv2.imread(\"../watershed-method/test2.png\")\n",
    "\n",
    "\n",
    "# img resize\n",
    "img = cv2.resize(img, (1024, 1024))\n",
    "cv2.imshow(\"img\", img)\n",
    "res = model(img, conf = 0.4)\n",
    "res_plotted = res[0].plot(conf = True, labels = True, masks = True, boxes = True, save = False)\n",
    "cv2.imshow(\"result\", res_plotted)\n",
    "cv2.waitKey(0)\n",
    "cv2.destroyAllWindows()\n"
   ]
  },
  {
   "cell_type": "code",
   "execution_count": null,
   "metadata": {},
   "outputs": [],
   "source": []
  }
 ],
 "metadata": {
  "kernelspec": {
   "display_name": "Python 3",
   "language": "python",
   "name": "python3"
  },
  "language_info": {
   "codemirror_mode": {
    "name": "ipython",
    "version": 3
   },
   "file_extension": ".py",
   "mimetype": "text/x-python",
   "name": "python",
   "nbconvert_exporter": "python",
   "pygments_lexer": "ipython3",
   "version": "3.8.16"
  },
  "orig_nbformat": 4
 },
 "nbformat": 4,
 "nbformat_minor": 2
}
